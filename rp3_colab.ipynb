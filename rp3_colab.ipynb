{
  "cells": [
    {
      "cell_type": "code",
      "execution_count": 9,
      "id": "48f4e51a",
      "metadata": {
        "id": "48f4e51a"
      },
      "outputs": [],
      "source": [
        "#@title Enter the construct sequences in FASTA format and hit `Runtime` -> `Run all`\n",
        "batch_size = 4 # @param {\"type\":\"integer\"}\n",
        "input_fasta = \"\"\"\n",
        ">CONSTR_000001\n",
        "MTVFFVTRLVKKHDKLSKQQIEDFAEKLMTILFETYRSHWHSDCPSKGQAFRCIRINNNQ\n",
        "NKDPILERACVESNVDFSHLGLPKEMTIWVDPFEVCCRYGEKNHPFTVASFKGRWEEWEL\n",
        "YQQISYAVSRASSDVSSGTSCDEESCGSHHHHHH\n",
        ">CONSTR_000002\n",
        "MDYTKPLEHPPVKRNEEAQVHDKLNSGMVSNMEGTAGGERPSVVNGDSGKSGGVGDPREP\n",
        "LGCLQEGSGCHPTTESFEKSVREDASPLPHVCCCKQDALILQRGLHHEDGSQHIGLLHPG\n",
        "DRGPDHEYVLVEEAECGSHHHHHH\n",
        ">CONSTR_000003\n",
        "MHHHHHHENLYFQGSLEVRGQLQSALLILGEPKEGGMPMNISIMPSSLQMKTPEGCTEIQ\n",
        "LPAEVRLVPSSCRGLQFVVGDGLHLRLQTQAKLGTKLISMFNQSSQTQE\n",
        ">CONSTR_000004\n",
        "MECPEGQLPISSENDSTPTVSTSEVTSQQEPQILVDRGSETTYESSADIAGDEGTQIPAD\n",
        "EDTQTDADSSAQAAAQAPENFQEGKDMSESQDEVPDEVENGSHHHHHH\n",
        ">CONSTR_000005\n",
        "MSTAPSEDIWKKFELVPSPPTSPPWGLGPGAGDPAPGIGPPEPWPGGCTGDEAESRGHSK\n",
        "GWGRNYASIIRRDCMWSGFSARERLERAVSDRLAPGAPRGNPPKASAAPDCTPSLEAGNP\n",
        "APAAPCPLGEPKTQACSGSESPSDSENEEIDVVTVEKRQSLGIRKPVTITVRADPLDPCM\n",
        "KHFHGSHHHHHH\n",
        ">CONSTR_000006\n",
        "MEKARHETFAAEMRQNDKIMCILENRKKRDRKNLCRAINDFQQSFQKPETRREFDLSDPL\n",
        "ALKKDLPARQSDNDVRNTISGMQGSHHHHHH\n",
        ">CONSTR_000007\n",
        "MLMKKAYELSVLCDCEIALIIFNSANRLFQYASTDMDRVLLKYTEYSEPHESRTNTDILE\n",
        "TLKRRGIGLDGPELEPDEGPEEPGEKFRRLAGEGGDPGSHHHHHH\n",
        ">CONSTR_000008\n",
        "MPTESASCSTARQTKQKRKSHSLSIRRTNSSEQERTGLPRDMLEGQDSKLPSSVRSTLLE\n",
        "LFGQIEREFENLYIENLELRREIDTLNERLAAEGQAIDGAELSKGQLKTKASHSTSQLSQ\n",
        "KLKTTYKASTSKIVSSFKTTTSRAACQLVKEYIGHRDGIWDVSVAKTQPVVLGTASADHT\n",
        "ALLWSIETGKCLVKYAGHVGSVNSIKFHPSEQLALTASGDQTAHIWRYAVQLPTPQPVAD\n",
        "TSISGEDEVECSDKDEPDLDGDVSSDCPTIRVPLTSLKSHQGVVIASDWLVGGKQAVTAS\n",
        "WDRTANLYDVETSELVHSLTGHDQELTHCCTHPTQRLVVTSSRDTTFRLWDFRDPSIHSV\n",
        "NVFQGHTDTVTSAVFTVGDNVVSGSDDRTVKVWDLKNMRSPIATIRTDSAINRINVCVGQ\n",
        "KIIALPHDNRQVRLFDMSGVRLARLPRSSRQGHRRMVCCSAWSEDHPVCNLFTCGFDRQA\n",
        "IGWNINIPALLQEKGSHHHHHH\n",
        ">CONSTR_000009\n",
        "MHHHHHHENLYFQGSPTESASCSTARQTKQKRKSHSLSIRRTNSSEQERTGLPRDMLEGQ\n",
        "DSKLPSSVRSTLLELFGQIEREFENLYIENLELRREIDTLNERLAAEGQAIDGAELSKGQ\n",
        "LKTKASHSTSQLSQKLKTTYKASTSKIVSSFKTTTSRAACQLVKEYIGHRDGIWDVSVAK\n",
        "TQPVVLGTASADHTALLWSIETGKCLVKYAGHVGSVNSIKFHPSEQLALTASGDQTAHIW\n",
        "RYAVQLPTPQPVADTSISGEDEVECSDKDEPDLDGDVSSDCPTIRVPLTSLKSHQGVVIA\n",
        "SDWLVGGKQAVTASWDRTANLYDVETSELVHSLTGHDQELTHCCTHPTQRLVVTSSRDTT\n",
        "FRLWDFRDPSIHSVNVFQGHTDTVTSAVFTVGDNVVSGSDDRTVKVWDLKNMRSPIATIR\n",
        "TDSAINRINVCVGQKIIALPHDNRQVRLFDMSGVRLARLPRSSRQGHRRMVCCSAWSEDH\n",
        "PVCNLFTCGFDRQAIGWNINIPALLQEK\n",
        ">CONSTR_000010\n",
        "MRDEIATTVFFVTRLVKKHDKLSKQQIEDFAEKLMTILFETYRSHWHSDCPSKGQAFRCI\n",
        "RINNNQNKDPILERACVESNVDFSHLGLPKEMTIWVDPFEVCCRYGEKNHPFTVASFKGR\n",
        "WEEWELYQQISYAVSRASSDVSSGTSCDEESCSKEPRVIPKVSNPKSIYQVENLKQPFQS\n",
        "WLQIPRKKNVVDGRVGLLGNTYHGSQKHPKCYRPAMHRLDRILGSHHHHHH\n",
        "\"\"\""
      ]
    },
    {
      "cell_type": "code",
      "execution_count": null,
      "id": "b5e9d39a",
      "metadata": {
        "cellView": "form",
        "collapsed": true,
        "id": "b5e9d39a"
      },
      "outputs": [],
      "source": [
        "#@title Install the dependencies and download the checkpoint\n",
        "%%bash\n",
        "\n",
        "set -e\n",
        "\n",
        "pip install RP3Net 'torchvision==0.20.1'\n",
        "wget -nv -nc https://ftp.ebi.ac.uk/pub/software/RP3Net/v0.1/checkpoints/rp3net_v0.1_d.ckpt"
      ]
    },
    {
      "cell_type": "code",
      "execution_count": 5,
      "id": "15ec2247",
      "metadata": {
        "cellView": "form",
        "id": "15ec2247"
      },
      "outputs": [],
      "source": [
        "#@title Imports\n",
        "import re\n",
        "import io\n",
        "import pandas as pd\n",
        "import RP3Net as rp3\n",
        "from tqdm.notebook import tqdm\n",
        "RE_FASTA_HEADER = re.compile(r'^>([\\w\\-.:#*]+)') # https://www.ncbi.nlm.nih.gov/genbank/fastaformat/"
      ]
    },
    {
      "cell_type": "code",
      "execution_count": 6,
      "id": "c5d31cfc",
      "metadata": {
        "cellView": "form",
        "id": "c5d31cfc"
      },
      "outputs": [],
      "source": [
        "#@title Helper functions\n",
        "def iter_fasta(io):\n",
        "    fasta_id, sequence = None, None\n",
        "    for line in io:\n",
        "        line = line.strip()\n",
        "        if len(line) == 0:\n",
        "            continue\n",
        "        m = RE_FASTA_HEADER.match(line)\n",
        "        if m:\n",
        "            if fasta_id is not None:\n",
        "                yield fasta_id, ''.join(sequence)\n",
        "            sequence = []\n",
        "            fasta_id = m.group(1)\n",
        "        else:\n",
        "            sequence.append(line)\n",
        "    if fasta_id is not None:\n",
        "        yield fasta_id, ''.join(sequence)\n",
        "\n",
        "def parse_fasta(s):\n",
        "    return {id: seq for id, seq in iter_fasta(io.StringIO(s))}\n",
        "\n",
        "def batches():\n",
        "    fasta_map = parse_fasta(input_fasta)\n",
        "    fasta_keys = list(fasta_map.keys())\n",
        "    r = tqdm(range(0, len(fasta_map), batch_size), desc='RP3Net Inference')\n",
        "    for i in r:\n",
        "        yield {k: fasta_map[k] for k in fasta_keys[i:i + batch_size]}"
      ]
    },
    {
      "cell_type": "code",
      "execution_count": 7,
      "id": "b9721c04",
      "metadata": {
        "id": "b9721c04"
      },
      "outputs": [],
      "source": [
        "#@title Load the model\n",
        "m = rp3.load_model(rp3.RP3_DEFAULT_CONFIG, 'rp3net_v0.1_d.ckpt')\n"
      ]
    },
    {
      "cell_type": "code",
      "execution_count": null,
      "id": "z1-PoDkqoVSc",
      "metadata": {
        "id": "z1-PoDkqoVSc",
        "outputId": "5a788b91-2bdf-419f-c524-2c70cd56c2af"
      },
      "outputs": [],
      "source": [
        "#@title Run the prediction on GPU\n",
        "m = m.to(device='cuda')\n",
        "scores_map = dict()\n",
        "for b in batches():\n",
        "    scores_map |= m.predict(b, device='cuda')\n"
      ]
    },
    {
      "cell_type": "code",
      "execution_count": 11,
      "id": "BvfWdEhXpiGJ",
      "metadata": {
        "colab": {
          "base_uri": "https://localhost:8080/"
        },
        "id": "BvfWdEhXpiGJ",
        "outputId": "f062f810-c709-4b00-c566-1b5b232f2585"
      },
      "outputs": [
        {
          "name": "stdout",
          "output_type": "stream",
          "text": [
            "              id     score\n",
            "0  CONSTR_000001  0.691543\n",
            "1  CONSTR_000002  0.971137\n",
            "2  CONSTR_000003  0.931065\n",
            "3  CONSTR_000004  0.972745\n",
            "4  CONSTR_000005  0.928140\n",
            "5  CONSTR_000006  0.977404\n",
            "6  CONSTR_000007  0.744749\n",
            "7  CONSTR_000008  0.009805\n",
            "8  CONSTR_000009  0.009679\n",
            "9  CONSTR_000010  0.433345\n"
          ]
        }
      ],
      "source": [
        "#@title Print and save the results\n",
        "df = pd.DataFrame([[id, score] for (id, score) in scores_map.items()], columns=['id', 'score'])\n",
        "print(df)\n",
        "df.to_csv(\"rp3_scores.csv\", index=False)"
      ]
    }
  ],
  "metadata": {
    "language_info": {
      "name": "python"
    }
  },
  "nbformat": 4,
  "nbformat_minor": 5
}
